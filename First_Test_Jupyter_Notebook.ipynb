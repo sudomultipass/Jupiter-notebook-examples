{
 "cells": [
  {
   "cell_type": "markdown",
   "metadata": {},
   "source": [
    "# Table of Contents\n",
    ">[1. Markdown Examples](#top) <br>\n",
    ">[2. Simple Python Code](#simple_python) <br>\n",
    ">[3. Bash Commands](#bash) <br>\n",
    ">[4. Magic Commands](#magic) <br>\n",
    ">[5. Inline Plots](#inline_plots) <br>\n",
    ">[6. HTML Embedding](#html_embedding) <br>\n",
    ">[7. Timeit Command](#timeit) <br>\n",
    ">[8. Pandas Dataframe Inline](#pandas_dataframe) <br>\n",
    ">[9. Jupyter Python Help Commands](#python_help) <br>"
   ]
  },
  {
   "cell_type": "markdown",
   "metadata": {},
   "source": [
    "<a id=\"top\"></a>\n",
    "# Markdown examples!\n",
    "# Sample Headline\n",
    "\n",
    "*Note: This will be italicised.*\n",
    "\n",
    "## Another Headline (H2)\n",
    "\n",
    "This is normal paragraph text....\n",
    "\n",
    "\n",
    "1. 1 thing\n",
    "2. 2nd thing\n",
    "3. 3rd thing...\n",
    "\n",
    "Horizontal Lines!\n",
    "***\n",
    "\n",
    "\n",
    "### Basic formatting:  \n",
    "\n",
    "-  bullet point\n",
    "    -  dub indent bullet point\n",
    "-  *Italics*\n",
    "-  **BOLD**\n",
    "-  _Italics again_\n",
    "\n",
    "<font color=blue|red|green|pink|yellow>### Colors! (Headlines down work...</font>\n",
    "\n",
    "$ mathematical symbol $\n",
    "\n",
    "`Monospace Text for quotes / code / paths / etc...`\n"
   ]
  },
  {
   "cell_type": "markdown",
   "metadata": {},
   "source": [
    "<a id=\"simple_python\"></a>\n",
    "# Simple Python Code\n",
    "<br>"
   ]
  },
  {
   "cell_type": "code",
   "execution_count": 24,
   "metadata": {},
   "outputs": [],
   "source": [
    "name = \"John\""
   ]
  },
  {
   "cell_type": "code",
   "execution_count": 22,
   "metadata": {
    "scrolled": true
   },
   "outputs": [
    {
     "data": {
      "text/plain": [
       "'John'"
      ]
     },
     "execution_count": 22,
     "metadata": {},
     "output_type": "execute_result"
    }
   ],
   "source": [
    "name"
   ]
  },
  {
   "cell_type": "code",
   "execution_count": 23,
   "metadata": {},
   "outputs": [],
   "source": [
    "name = 'Corey'"
   ]
  },
  {
   "cell_type": "markdown",
   "metadata": {},
   "source": [
    "<a id=\"bash\"></a>\n",
    "# BASH COMMANDS\n",
    "\n",
    "<br>\n"
   ]
  },
  {
   "cell_type": "code",
   "execution_count": 27,
   "metadata": {},
   "outputs": [
    {
     "name": "stdout",
     "output_type": "stream",
     "text": [
      "Package                            Version  \r\n",
      "---------------------------------- ---------\r\n",
      "alabaster                          0.7.10   \r\n",
      "anaconda-client                    1.6.9    \r\n",
      "anaconda-navigator                 1.7.0    \r\n",
      "anaconda-project                   0.8.2    \r\n",
      "appnope                            0.1.0    \r\n",
      "appscript                          1.0.1    \r\n",
      "asn1crypto                         0.24.0   \r\n",
      "astroid                            1.6.1    \r\n",
      "astropy                            2.0.3    \r\n",
      "attrs                              17.4.0   \r\n",
      "Babel                              2.5.3    \r\n",
      "backports.shutil-get-terminal-size 1.0.0    \r\n",
      "beautifulsoup4                     4.6.0    \r\n",
      "bitarray                           0.8.1    \r\n",
      "bkcharts                           0.2      \r\n",
      "blaze                              0.11.3   \r\n",
      "bleach                             2.1.2    \r\n",
      "bokeh                              0.12.13  \r\n",
      "boto                               2.48.0   \r\n",
      "boto3                              1.7.24   \r\n",
      "botocore                           1.10.24  \r\n",
      "Bottleneck                         1.2.1    \r\n",
      "bz2file                            0.98     \r\n",
      "certifi                            2018.1.18\r\n",
      "cffi                               1.11.4   \r\n",
      "chardet                            3.0.4    \r\n",
      "click                              6.7      \r\n",
      "cloudpickle                        0.5.2    \r\n",
      "clyent                             1.2.2    \r\n",
      "colorama                           0.3.9    \r\n",
      "conda                              4.5.4    \r\n",
      "conda-build                        3.4.1    \r\n",
      "conda-verify                       2.0.0    \r\n",
      "contextlib2                        0.5.5    \r\n",
      "cryptography                       2.1.4    \r\n",
      "cycler                             0.10.0   \r\n",
      "Cython                             0.27.3   \r\n",
      "cytoolz                            0.9.0    \r\n",
      "dask                               0.16.1   \r\n",
      "datashape                          0.5.4    \r\n",
      "decorator                          4.2.1    \r\n",
      "distributed                        1.20.2   \r\n",
      "docutils                           0.14     \r\n",
      "entrypoints                        0.2.3    \r\n",
      "et-xmlfile                         1.0.1    \r\n",
      "fastcache                          1.0.2    \r\n",
      "filelock                           2.0.13   \r\n",
      "Flask                              0.12.2   \r\n",
      "Flask-Cors                         3.0.3    \r\n",
      "gensim                             3.4.0    \r\n",
      "gevent                             1.2.2    \r\n",
      "glob2                              0.6      \r\n",
      "gmpy2                              2.0.8    \r\n",
      "greenlet                           0.4.12   \r\n",
      "h5py                               2.7.1    \r\n",
      "heapdict                           1.0.0    \r\n",
      "html5lib                           1.0.1    \r\n",
      "idna                               2.6      \r\n",
      "imageio                            2.2.0    \r\n",
      "imagesize                          0.7.1    \r\n",
      "ipykernel                          4.8.0    \r\n",
      "ipython                            6.2.1    \r\n",
      "ipython-genutils                   0.2.0    \r\n",
      "ipywidgets                         7.1.1    \r\n",
      "isort                              4.2.15   \r\n",
      "itsdangerous                       0.24     \r\n",
      "jdcal                              1.3      \r\n",
      "jedi                               0.11.1   \r\n",
      "Jinja2                             2.10     \r\n",
      "jmespath                           0.9.3    \r\n",
      "jsonschema                         2.6.0    \r\n",
      "jupyter                            1.0.0    \r\n",
      "jupyter-client                     5.2.2    \r\n",
      "jupyter-console                    5.2.0    \r\n",
      "jupyter-core                       4.4.0    \r\n",
      "jupyterlab                         0.31.5   \r\n",
      "jupyterlab-launcher                0.10.2   \r\n",
      "lazy-object-proxy                  1.3.1    \r\n",
      "llvmlite                           0.21.0   \r\n",
      "locket                             0.2.0    \r\n",
      "lxml                               4.1.1    \r\n",
      "MarkupSafe                         1.0      \r\n",
      "matplotlib                         2.1.2    \r\n",
      "mccabe                             0.6.1    \r\n",
      "mistune                            0.8.3    \r\n",
      "mpmath                             1.0.0    \r\n",
      "msgpack-python                     0.5.1    \r\n",
      "multipledispatch                   0.4.9    \r\n",
      "navigator-updater                  0.1.0    \r\n",
      "nbconvert                          5.3.1    \r\n",
      "nbformat                           4.4.0    \r\n",
      "networkx                           2.1      \r\n",
      "nltk                               3.2.5    \r\n",
      "nose                               1.3.7    \r\n",
      "notebook                           5.4.0    \r\n",
      "numba                              0.36.2   \r\n",
      "numexpr                            2.6.4    \r\n",
      "numpy                              1.14.0   \r\n",
      "numpydoc                           0.7.0    \r\n",
      "odo                                0.5.1    \r\n",
      "olefile                            0.45.1   \r\n",
      "openpyxl                           2.4.10   \r\n",
      "packaging                          16.8     \r\n",
      "pandas                             0.22.0   \r\n",
      "pandocfilters                      1.4.2    \r\n",
      "parso                              0.1.1    \r\n",
      "partd                              0.3.8    \r\n",
      "path.py                            10.5     \r\n",
      "pathlib2                           2.3.0    \r\n",
      "patsy                              0.5.0    \r\n",
      "pep8                               1.7.1    \r\n",
      "pexpect                            4.3.1    \r\n",
      "pickleshare                        0.7.4    \r\n",
      "Pillow                             5.0.0    \r\n",
      "pip                                9.0.1    \r\n",
      "pkginfo                            1.4.1    \r\n",
      "pluggy                             0.6.0    \r\n",
      "ply                                3.10     \r\n",
      "prompt-toolkit                     1.0.15   \r\n",
      "psutil                             5.4.3    \r\n",
      "ptyprocess                         0.5.2    \r\n",
      "py                                 1.5.2    \r\n",
      "pycodestyle                        2.3.1    \r\n",
      "pycosat                            0.6.3    \r\n",
      "pycparser                          2.18     \r\n",
      "pycrypto                           2.6.1    \r\n",
      "pycurl                             7.43.0.1 \r\n",
      "pyflakes                           1.6.0    \r\n",
      "Pygments                           2.2.0    \r\n",
      "pylint                             1.8.2    \r\n",
      "pyodbc                             4.0.22   \r\n",
      "pyOpenSSL                          17.5.0   \r\n",
      "pyparsing                          2.2.0    \r\n",
      "PySocks                            1.6.7    \r\n",
      "pytest                             3.3.2    \r\n",
      "python-dateutil                    2.6.1    \r\n",
      "pytz                               2017.3   \r\n",
      "PyWavelets                         0.5.2    \r\n",
      "PyYAML                             3.12     \r\n",
      "pyzmq                              16.0.3   \r\n",
      "QtAwesome                          0.4.4    \r\n",
      "qtconsole                          4.3.1    \r\n",
      "QtPy                               1.3.1    \r\n",
      "requests                           2.18.4   \r\n",
      "rope                               0.10.7   \r\n",
      "ruamel-yaml                        0.15.35  \r\n",
      "s3transfer                         0.1.13   \r\n",
      "scikit-image                       0.13.1   \r\n",
      "scikit-learn                       0.19.1   \r\n",
      "scipy                              1.0.0    \r\n",
      "seaborn                            0.8.1    \r\n",
      "Send2Trash                         1.4.2    \r\n",
      "setuptools                         38.4.0   \r\n",
      "simplegeneric                      0.8.1    \r\n",
      "singledispatch                     3.4.0.3  \r\n",
      "six                                1.11.0   \r\n",
      "smart-open                         1.5.7    \r\n",
      "snowballstemmer                    1.2.1    \r\n",
      "sortedcollections                  0.5.3    \r\n",
      "sortedcontainers                   1.5.9    \r\n",
      "Sphinx                             1.6.6    \r\n",
      "sphinxcontrib-websupport           1.0.1    \r\n",
      "spyder                             3.2.6    \r\n",
      "SQLAlchemy                         1.2.1    \r\n",
      "statsmodels                        0.8.0    \r\n",
      "sympy                              1.1.1    \r\n",
      "tables                             3.4.2    \r\n",
      "tblib                              1.3.2    \r\n",
      "terminado                          0.8.1    \r\n",
      "testpath                           0.3.1    \r\n",
      "toolz                              0.9.0    \r\n",
      "tornado                            4.5.3    \r\n",
      "traitlets                          4.3.2    \r\n",
      "typing                             3.6.2    \r\n",
      "unicodecsv                         0.14.1   \r\n",
      "urllib3                            1.22     \r\n",
      "wcwidth                            0.1.7    \r\n",
      "webencodings                       0.5.1    \r\n",
      "Werkzeug                           0.14.1   \r\n",
      "wheel                              0.30.0   \r\n",
      "widgetsnbextension                 3.1.0    \r\n",
      "wrapt                              1.10.11  \r\n",
      "xlrd                               1.1.0    \r\n",
      "XlsxWriter                         1.0.2    \r\n",
      "xlwings                            0.11.5   \r\n",
      "xlwt                               1.2.0    \r\n",
      "zict                               0.1.3    \r\n"
     ]
    },
    {
     "name": "stdout",
     "output_type": "stream",
     "text": [
      "\u001b[33mYou are using pip version 9.0.1, however version 10.0.1 is available.\r\n",
      "You should consider upgrading via the 'pip install --upgrade pip' command.\u001b[0m\r\n"
     ]
    }
   ],
   "source": [
    "!pip list --format=columns # interprets as bash command"
   ]
  },
  {
   "cell_type": "markdown",
   "metadata": {},
   "source": [
    "<a id=\"magic\"></a>\n",
    "# MAGIC COMMANDS\n",
    "#### %%lsmagic lists all magic commands available in Jupyter Notebooks\n",
    "\n",
    "<br>"
   ]
  },
  {
   "cell_type": "code",
   "execution_count": 76,
   "metadata": {},
   "outputs": [
    {
     "data": {
      "application/json": {
       "cell": {
        "!": "OSMagics",
        "HTML": "Other",
        "SVG": "Other",
        "bash": "Other",
        "capture": "ExecutionMagics",
        "debug": "ExecutionMagics",
        "file": "Other",
        "html": "DisplayMagics",
        "javascript": "DisplayMagics",
        "js": "DisplayMagics",
        "latex": "DisplayMagics",
        "markdown": "DisplayMagics",
        "perl": "Other",
        "prun": "ExecutionMagics",
        "pypy": "Other",
        "python": "Other",
        "python2": "Other",
        "python3": "Other",
        "ruby": "Other",
        "script": "ScriptMagics",
        "sh": "Other",
        "svg": "DisplayMagics",
        "sx": "OSMagics",
        "system": "OSMagics",
        "time": "ExecutionMagics",
        "timeit": "ExecutionMagics",
        "writefile": "OSMagics"
       },
       "line": {
        "alias": "OSMagics",
        "alias_magic": "BasicMagics",
        "autocall": "AutoMagics",
        "automagic": "AutoMagics",
        "autosave": "KernelMagics",
        "bookmark": "OSMagics",
        "cat": "Other",
        "cd": "OSMagics",
        "clear": "KernelMagics",
        "colors": "BasicMagics",
        "config": "ConfigMagics",
        "connect_info": "KernelMagics",
        "cp": "Other",
        "debug": "ExecutionMagics",
        "dhist": "OSMagics",
        "dirs": "OSMagics",
        "doctest_mode": "BasicMagics",
        "ed": "Other",
        "edit": "KernelMagics",
        "env": "OSMagics",
        "gui": "BasicMagics",
        "hist": "Other",
        "history": "HistoryMagics",
        "killbgscripts": "ScriptMagics",
        "ldir": "Other",
        "less": "KernelMagics",
        "lf": "Other",
        "lk": "Other",
        "ll": "Other",
        "load": "CodeMagics",
        "load_ext": "ExtensionMagics",
        "loadpy": "CodeMagics",
        "logoff": "LoggingMagics",
        "logon": "LoggingMagics",
        "logstart": "LoggingMagics",
        "logstate": "LoggingMagics",
        "logstop": "LoggingMagics",
        "ls": "Other",
        "lsmagic": "BasicMagics",
        "lx": "Other",
        "macro": "ExecutionMagics",
        "magic": "BasicMagics",
        "man": "KernelMagics",
        "matplotlib": "PylabMagics",
        "mkdir": "Other",
        "more": "KernelMagics",
        "mv": "Other",
        "notebook": "BasicMagics",
        "page": "BasicMagics",
        "pastebin": "CodeMagics",
        "pdb": "ExecutionMagics",
        "pdef": "NamespaceMagics",
        "pdoc": "NamespaceMagics",
        "pfile": "NamespaceMagics",
        "pinfo": "NamespaceMagics",
        "pinfo2": "NamespaceMagics",
        "pip": "BasicMagics",
        "popd": "OSMagics",
        "pprint": "BasicMagics",
        "precision": "BasicMagics",
        "profile": "BasicMagics",
        "prun": "ExecutionMagics",
        "psearch": "NamespaceMagics",
        "psource": "NamespaceMagics",
        "pushd": "OSMagics",
        "pwd": "OSMagics",
        "pycat": "OSMagics",
        "pylab": "PylabMagics",
        "qtconsole": "KernelMagics",
        "quickref": "BasicMagics",
        "recall": "HistoryMagics",
        "rehashx": "OSMagics",
        "reload_ext": "ExtensionMagics",
        "rep": "Other",
        "rerun": "HistoryMagics",
        "reset": "NamespaceMagics",
        "reset_selective": "NamespaceMagics",
        "rm": "Other",
        "rmdir": "Other",
        "run": "ExecutionMagics",
        "save": "CodeMagics",
        "sc": "OSMagics",
        "set_env": "OSMagics",
        "store": "StoreMagics",
        "sx": "OSMagics",
        "system": "OSMagics",
        "tb": "ExecutionMagics",
        "time": "ExecutionMagics",
        "timeit": "ExecutionMagics",
        "unalias": "OSMagics",
        "unload_ext": "ExtensionMagics",
        "who": "NamespaceMagics",
        "who_ls": "NamespaceMagics",
        "whos": "NamespaceMagics",
        "xdel": "NamespaceMagics",
        "xmode": "BasicMagics"
       }
      },
      "text/plain": [
       "Available line magics:\n",
       "%alias  %alias_magic  %autocall  %automagic  %autosave  %bookmark  %cat  %cd  %clear  %colors  %config  %connect_info  %cp  %debug  %dhist  %dirs  %doctest_mode  %ed  %edit  %env  %gui  %hist  %history  %killbgscripts  %ldir  %less  %lf  %lk  %ll  %load  %load_ext  %loadpy  %logoff  %logon  %logstart  %logstate  %logstop  %ls  %lsmagic  %lx  %macro  %magic  %man  %matplotlib  %mkdir  %more  %mv  %notebook  %page  %pastebin  %pdb  %pdef  %pdoc  %pfile  %pinfo  %pinfo2  %popd  %pprint  %precision  %profile  %prun  %psearch  %psource  %pushd  %pwd  %pycat  %pylab  %qtconsole  %quickref  %recall  %rehashx  %reload_ext  %rep  %rerun  %reset  %reset_selective  %rm  %rmdir  %run  %save  %sc  %set_env  %store  %sx  %system  %tb  %time  %timeit  %unalias  %unload_ext  %who  %who_ls  %whos  %xdel  %xmode\n",
       "\n",
       "Available cell magics:\n",
       "%%!  %%HTML  %%SVG  %%bash  %%capture  %%debug  %%file  %%html  %%javascript  %%js  %%latex  %%markdown  %%perl  %%prun  %%pypy  %%python  %%python2  %%python3  %%ruby  %%script  %%sh  %%svg  %%sx  %%system  %%time  %%timeit  %%writefile\n",
       "\n",
       "Automagic is ON, % prefix IS NOT needed for line magics."
      ]
     },
     "execution_count": 76,
     "metadata": {},
     "output_type": "execute_result"
    }
   ],
   "source": [
    "%lsmagic"
   ]
  },
  {
   "cell_type": "code",
   "execution_count": 30,
   "metadata": {},
   "outputs": [
    {
     "name": "stdout",
     "output_type": "stream",
     "text": [
      "total 40\r\n",
      "drwxr-xr-x   4 dh  staff    128 May 29 19:49 \u001b[34m.\u001b[m\u001b[m/\r\n",
      "drwxr-xr-x  20 dh  staff    640 May 29 19:31 \u001b[34m..\u001b[m\u001b[m/\r\n",
      "drwxr-xr-x   3 dh  staff     96 May 29 19:32 \u001b[34m.ipynb_checkpoints\u001b[m\u001b[m/\r\n",
      "-rw-r--r--   1 dh  staff  19009 May 29 19:49 First_Test_Jupyter_Notebook.ipynb\r\n"
     ]
    }
   ],
   "source": [
    "%ls -la"
   ]
  },
  {
   "cell_type": "code",
   "execution_count": 31,
   "metadata": {},
   "outputs": [
    {
     "data": {
      "text/plain": [
       "'/Users/dh/projects/jupyter_notebook'"
      ]
     },
     "execution_count": 31,
     "metadata": {},
     "output_type": "execute_result"
    }
   ],
   "source": [
    "%pwd"
   ]
  },
  {
   "cell_type": "markdown",
   "metadata": {},
   "source": [
    "<a id=\"inline_plots\"></a>\n",
    "# AMAZING INLINE PLOTS!!! \n",
    "### Using %matplotlib inline\n",
    "<br>"
   ]
  },
  {
   "cell_type": "code",
   "execution_count": 74,
   "metadata": {},
   "outputs": [
    {
     "data": {
      "image/png": "[encoded data removed]",
      "text/plain": [
       "<matplotlib.figure.Figure at 0x112590f28>"
      ]
     },
     "metadata": {},
     "output_type": "display_data"
    }
   ],
   "source": [
    "''' \n",
    "SIMPLE DEMO OF SCATTER PLOT FROM MATPLOTLIB\n",
    "'''\n",
    "\n",
    "# This line allows the scatter plot to be displayed inline\n",
    "%matplotlib inline   \n",
    "\n",
    "import numpy as np\n",
    "import matplotlib.pyplot as plt\n",
    "\n",
    "N = 100\n",
    "x = np.random.rand(N)\n",
    "y = np.random.rand(N)\n",
    "colors = np.random.rand(N)\n",
    "area = np.pi * (30 * np.random.rand(N)) ** 2\n",
    "\n",
    "plt.scatter(x, y, s=area, c=colors, alpha=0.5)\n",
    "plt.show()"
   ]
  },
  {
   "cell_type": "markdown",
   "metadata": {},
   "source": [
    "<a id=\"html_embedding\"></a>\n",
    "# HTML EMBEDDING!!\n",
    "<br>"
   ]
  },
  {
   "cell_type": "code",
   "execution_count": 72,
   "metadata": {
    "scrolled": true
   },
   "outputs": [
    {
     "data": {
      "text/html": [
       "'''\n",
       "Used to embed any arbitrary HTML code\n",
       "Must be at the top to work\n",
       "'''\n",
       "<iframe width = '500' height='300' src='https://www.youtube.com/embed/HW29067qVWk' frameborder='0'></iframe>"
      ],
      "text/plain": [
       "<IPython.core.display.HTML object>"
      ]
     },
     "metadata": {},
     "output_type": "display_data"
    }
   ],
   "source": [
    "%%HTML\n",
    "'''\n",
    "Used to embed any arbitrary HTML code\n",
    "Must be at the top to work\n",
    "'''\n",
    "<iframe width = '500' height='300' src='https://www.youtube.com/embed/HW29067qVWk' frameborder='0'></iframe>"
   ]
  },
  {
   "cell_type": "markdown",
   "metadata": {},
   "source": [
    "<a id=\"timeit\"></a>\n",
    "# TIMEIT COMMAND\n",
    "### Used to time code execution\n",
    "<br>"
   ]
  },
  {
   "cell_type": "code",
   "execution_count": 71,
   "metadata": {},
   "outputs": [
    {
     "name": "stdout",
     "output_type": "stream",
     "text": [
      "55 µs ± 125 ns per loop (mean ± std. dev. of 7 runs, 10000 loops each)\n"
     ]
    }
   ],
   "source": [
    "%%timeit\n",
    "'''\n",
    "Used to time code execution, gives time per loop executed.\n",
    "Must be at the top of the code cell to work.\n",
    "'''\n",
    "\n",
    "squares = [n*n for n in range (1000)]"
   ]
  },
  {
   "cell_type": "markdown",
   "metadata": {},
   "source": [
    "<a id=\"pandas_dataframe\"></a>\n",
    "# DISPLAY PANDAS DATAFRAME INLINE\n",
    "<br>"
   ]
  },
  {
   "cell_type": "code",
   "execution_count": 70,
   "metadata": {
    "scrolled": true
   },
   "outputs": [
    {
     "data": {
      "text/html": [
       "<div>\n",
       "<style scoped>\n",
       "    .dataframe tbody tr th:only-of-type {\n",
       "        vertical-align: middle;\n",
       "    }\n",
       "\n",
       "    .dataframe tbody tr th {\n",
       "        vertical-align: top;\n",
       "    }\n",
       "\n",
       "    .dataframe thead th {\n",
       "        text-align: right;\n",
       "    }\n",
       "</style>\n",
       "<table border=\"1\" class=\"dataframe\">\n",
       "  <thead>\n",
       "    <tr style=\"text-align: right;\">\n",
       "      <th></th>\n",
       "      <th>0</th>\n",
       "      <th>1</th>\n",
       "      <th>2</th>\n",
       "      <th>3</th>\n",
       "      <th>4</th>\n",
       "    </tr>\n",
       "  </thead>\n",
       "  <tbody>\n",
       "    <tr>\n",
       "      <th>0</th>\n",
       "      <td>0.191470</td>\n",
       "      <td>0.304533</td>\n",
       "      <td>0.816919</td>\n",
       "      <td>0.132005</td>\n",
       "      <td>0.683115</td>\n",
       "    </tr>\n",
       "    <tr>\n",
       "      <th>1</th>\n",
       "      <td>0.351978</td>\n",
       "      <td>0.636783</td>\n",
       "      <td>0.072227</td>\n",
       "      <td>0.843754</td>\n",
       "      <td>0.048084</td>\n",
       "    </tr>\n",
       "    <tr>\n",
       "      <th>2</th>\n",
       "      <td>0.462614</td>\n",
       "      <td>0.872250</td>\n",
       "      <td>0.705895</td>\n",
       "      <td>0.462959</td>\n",
       "      <td>0.629216</td>\n",
       "    </tr>\n",
       "    <tr>\n",
       "      <th>3</th>\n",
       "      <td>0.180568</td>\n",
       "      <td>0.267132</td>\n",
       "      <td>0.572219</td>\n",
       "      <td>0.487629</td>\n",
       "      <td>0.093968</td>\n",
       "    </tr>\n",
       "    <tr>\n",
       "      <th>4</th>\n",
       "      <td>0.121331</td>\n",
       "      <td>0.241493</td>\n",
       "      <td>0.057834</td>\n",
       "      <td>0.873341</td>\n",
       "      <td>0.741112</td>\n",
       "    </tr>\n",
       "  </tbody>\n",
       "</table>\n",
       "</div>"
      ],
      "text/plain": [
       "          0         1         2         3         4\n",
       "0  0.191470  0.304533  0.816919  0.132005  0.683115\n",
       "1  0.351978  0.636783  0.072227  0.843754  0.048084\n",
       "2  0.462614  0.872250  0.705895  0.462959  0.629216\n",
       "3  0.180568  0.267132  0.572219  0.487629  0.093968\n",
       "4  0.121331  0.241493  0.057834  0.873341  0.741112"
      ]
     },
     "execution_count": 70,
     "metadata": {},
     "output_type": "execute_result"
    }
   ],
   "source": [
    "'''\n",
    "Pandas dataframes can be previewed inline \n",
    "without any special commands\n",
    "'''\n",
    "import pandas as pd\n",
    "import numpy as np\n",
    "\n",
    "df = pd.DataFrame(np.random.rand(10,5))\n",
    "df.head()"
   ]
  },
  {
   "cell_type": "markdown",
   "metadata": {},
   "source": [
    "<a id=\"python_help\"></a>\n",
    "# USE ?   and ?? Command to get help with python anythings\n",
    "<br>"
   ]
  },
  {
   "cell_type": "code",
   "execution_count": 59,
   "metadata": {},
   "outputs": [],
   "source": [
    "'''\n",
    "Execute for information about the insert() method\n",
    "'''\n",
    "L = [1,2,3]\n",
    "L.insert?"
   ]
  },
  {
   "cell_type": "code",
   "execution_count": 58,
   "metadata": {},
   "outputs": [
    {
     "name": "stdout",
     "output_type": "stream",
     "text": [
      "25\n"
     ]
    }
   ],
   "source": [
    "'''\n",
    "Create your own docstring for ? command!\n",
    "'''\n",
    "\n",
    "# Simply add your trip-quote multiline comment \n",
    "# at the very top of your function.\n",
    "def square(n):\n",
    "    \"\"\"Return the square of integer\"\"\"\n",
    "    return n**2\n",
    "\n",
    "a = 5\n",
    "print(square(a))\n",
    "\n",
    "square?"
   ]
  },
  {
   "cell_type": "code",
   "execution_count": 52,
   "metadata": {},
   "outputs": [],
   "source": [
    "'''\n",
    "Access source code of function or anything else\n",
    "'''\n",
    "\n",
    "square??"
   ]
  }
 ],
 "metadata": {
  "kernelspec": {
   "display_name": "Python 3",
   "language": "python",
   "name": "python3"
  },
  "language_info": {
   "codemirror_mode": {
    "name": "ipython",
    "version": 3
   },
   "file_extension": ".py",
   "mimetype": "text/x-python",
   "name": "python",
   "nbconvert_exporter": "python",
   "pygments_lexer": "ipython3",
   "version": "3.6.4"
  }
 },
 "nbformat": 4,
 "nbformat_minor": 2
}
